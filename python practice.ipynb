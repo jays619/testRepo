{
 "cells": [
  {
   "cell_type": "code",
   "execution_count": 5,
   "id": "e9134e54-4bfb-41c3-8c0d-5fc140dde517",
   "metadata": {},
   "outputs": [
    {
     "name": "stdout",
     "output_type": "stream",
     "text": [
      "Python 3.12.7\n"
     ]
    }
   ],
   "source": [
    "! python --version\n"
   ]
  },
  {
   "cell_type": "markdown",
   "id": "35599235-315d-4d2e-bead-5433a1f5d5b4",
   "metadata": {},
   "source": [
    "# Data Science Tools and Ecosystem"
   ]
  },
  {
   "cell_type": "markdown",
   "id": "cb623cef-40a6-454b-bb6c-bea229562c22",
   "metadata": {},
   "source": [
    "## In this notebook, Data Science Tools and Ecosystem are summarized.\n",
    "\n"
   ]
  },
  {
   "cell_type": "markdown",
   "id": "4ac070c1-a25e-443d-9863-8e79d3e0ebe4",
   "metadata": {},
   "source": [
    "__Objectives:__\n",
    "- List popular languages for Data Science\n",
    "- Overview of data science tools and environments\n",
    "- Basics of Markdown formatting\n",
    "- Writing and rendering tables in Markdown\n",
    "- Using Git and SSH for version control\n",
    "  "
   ]
  },
  {
   "cell_type": "markdown",
   "id": "b080c00b-2651-4ca5-88fc-66d5b5b5ea7d",
   "metadata": {},
   "source": [
    "# Some of the popular languages that Data Scientists use are:\n",
    "1. Python\n",
    "2. R\n",
    "3. Scala\n",
    "4. Maybe even Java"
   ]
  },
  {
   "cell_type": "markdown",
   "id": "f8fd5d99-2e40-49bc-889a-0823bbd6d23a",
   "metadata": {},
   "source": [
    "# Some of the commonly used libraries used by Data Scientists include:\n",
    "1. ggplot\n",
    "2. mathplot\n",
    "3. numpy\n",
    "4. pandas"
   ]
  },
  {
   "cell_type": "markdown",
   "id": "2f9b7172-85aa-4a46-b9ff-a073e560df0a",
   "metadata": {},
   "source": [
    "| Data Science Tools   |\n",
    "|-----------------------|\n",
    "| Jupyter Notebook      |\n",
    "| RStudio               |\n",
    "| Apache Zeppelin        |\n"
   ]
  },
  {
   "cell_type": "markdown",
   "id": "54596259-5077-43b6-a64f-00afdfcd092e",
   "metadata": {},
   "source": [
    "### Below are a few examples of evaluating arithmetic expressions in Python.\n",
    "\n"
   ]
  },
  {
   "cell_type": "code",
   "execution_count": 22,
   "id": "27dea939-1183-4330-b389-5b11ce1584b2",
   "metadata": {},
   "outputs": [
    {
     "data": {
      "text/plain": [
       "17"
      ]
     },
     "execution_count": 22,
     "metadata": {},
     "output_type": "execute_result"
    }
   ],
   "source": [
    "#This a simple arithmetic expression to mutiply then add integers\n",
    "(3*4)+5"
   ]
  },
  {
   "cell_type": "code",
   "execution_count": 30,
   "id": "a1de5014-c08b-483e-9807-07634d5a77d9",
   "metadata": {},
   "outputs": [
    {
     "name": "stdout",
     "output_type": "stream",
     "text": [
      "This is the converted mins to hrs 3.3333333333333335\n"
     ]
    }
   ],
   "source": [
    "#This will convert 200 minutes to hours by diving by 60\n",
    "hrs = 200 /60 \n",
    "print(\"This is the converted mins to hrs\", hrs)"
   ]
  },
  {
   "cell_type": "markdown",
   "id": "4f883548-65c9-458c-8306-ae7f53e717dd",
   "metadata": {},
   "source": [
    "## Author:\n",
    "Said Hofiani"
   ]
  },
  {
   "cell_type": "code",
   "execution_count": null,
   "id": "89c5be5e-60e1-4682-9ee9-c4fd98b6a4e4",
   "metadata": {},
   "outputs": [],
   "source": []
  }
 ],
 "metadata": {
  "kernelspec": {
   "display_name": "Python 3 (my-python3-kernel)",
   "language": "python",
   "name": "my-python3-kernel"
  },
  "language_info": {
   "codemirror_mode": {
    "name": "ipython",
    "version": 3
   },
   "file_extension": ".py",
   "mimetype": "text/x-python",
   "name": "python",
   "nbconvert_exporter": "python",
   "pygments_lexer": "ipython3",
   "version": "3.12.7"
  }
 },
 "nbformat": 4,
 "nbformat_minor": 5
}
